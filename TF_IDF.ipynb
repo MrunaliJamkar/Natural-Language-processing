{
  "nbformat": 4,
  "nbformat_minor": 0,
  "metadata": {
    "colab": {
      "provenance": [],
      "authorship_tag": "ABX9TyOqNsNLP4t5ISIZ1QgfK2EH",
      "include_colab_link": true
    },
    "kernelspec": {
      "name": "python3",
      "display_name": "Python 3"
    },
    "language_info": {
      "name": "python"
    }
  },
  "cells": [
    {
      "cell_type": "markdown",
      "metadata": {
        "id": "view-in-github",
        "colab_type": "text"
      },
      "source": [
        "<a href=\"https://colab.research.google.com/github/MrunaliJamkar/Natural-Language-processing/blob/main/TF_IDF.ipynb\" target=\"_parent\"><img src=\"https://colab.research.google.com/assets/colab-badge.svg\" alt=\"Open In Colab\"/></a>"
      ]
    },
    {
      "cell_type": "code",
      "execution_count": 1,
      "metadata": {
        "id": "YkUXXVghWYL-",
        "outputId": "db0f7d32-cc63-4dd2-cf91-a42931f2ebf2",
        "colab": {
          "base_uri": "https://localhost:8080/",
          "height": 206
        }
      },
      "outputs": [
        {
          "output_type": "execute_result",
          "data": {
            "text/plain": [
              "   Unnamed: 0                        Movie Name  \\\n",
              "0           0                       White Noise   \n",
              "1           1                      Coach Carter   \n",
              "2           2                           Elektra   \n",
              "3           3                    Racing Stripes   \n",
              "4           4  Tom and Jerry: Blast Off to Mars   \n",
              "\n",
              "                                           Wiki Link  \\\n",
              "0  https://en.wikipedia.org//wiki/White_Noise_(20...   \n",
              "1        https://en.wikipedia.org//wiki/Coach_Carter   \n",
              "2  https://en.wikipedia.org//wiki/Elektra_(2005_f...   \n",
              "3      https://en.wikipedia.org//wiki/Racing_Stripes   \n",
              "4  https://en.wikipedia.org//wiki/Tom_and_Jerry:_...   \n",
              "\n",
              "                                                Plot  \n",
              "0  Jonathan Rivers is an architect and lives with...  \n",
              "1  Ken Carter lives in Richmond, California. He b...  \n",
              "2  After being killed in Daredevil, Elektra Natch...  \n",
              "3  During a thunderstorm, a traveling circus, Cir...  \n",
              "4  Tom (voiced by Bill Kopp) chases Jerry as usua...  "
            ],
            "text/html": [
              "\n",
              "  <div id=\"df-123a6b2a-35ac-4391-b6d8-6bb645e38587\">\n",
              "    <div class=\"colab-df-container\">\n",
              "      <div>\n",
              "<style scoped>\n",
              "    .dataframe tbody tr th:only-of-type {\n",
              "        vertical-align: middle;\n",
              "    }\n",
              "\n",
              "    .dataframe tbody tr th {\n",
              "        vertical-align: top;\n",
              "    }\n",
              "\n",
              "    .dataframe thead th {\n",
              "        text-align: right;\n",
              "    }\n",
              "</style>\n",
              "<table border=\"1\" class=\"dataframe\">\n",
              "  <thead>\n",
              "    <tr style=\"text-align: right;\">\n",
              "      <th></th>\n",
              "      <th>Unnamed: 0</th>\n",
              "      <th>Movie Name</th>\n",
              "      <th>Wiki Link</th>\n",
              "      <th>Plot</th>\n",
              "    </tr>\n",
              "  </thead>\n",
              "  <tbody>\n",
              "    <tr>\n",
              "      <th>0</th>\n",
              "      <td>0</td>\n",
              "      <td>White Noise</td>\n",
              "      <td>https://en.wikipedia.org//wiki/White_Noise_(20...</td>\n",
              "      <td>Jonathan Rivers is an architect and lives with...</td>\n",
              "    </tr>\n",
              "    <tr>\n",
              "      <th>1</th>\n",
              "      <td>1</td>\n",
              "      <td>Coach Carter</td>\n",
              "      <td>https://en.wikipedia.org//wiki/Coach_Carter</td>\n",
              "      <td>Ken Carter lives in Richmond, California. He b...</td>\n",
              "    </tr>\n",
              "    <tr>\n",
              "      <th>2</th>\n",
              "      <td>2</td>\n",
              "      <td>Elektra</td>\n",
              "      <td>https://en.wikipedia.org//wiki/Elektra_(2005_f...</td>\n",
              "      <td>After being killed in Daredevil, Elektra Natch...</td>\n",
              "    </tr>\n",
              "    <tr>\n",
              "      <th>3</th>\n",
              "      <td>3</td>\n",
              "      <td>Racing Stripes</td>\n",
              "      <td>https://en.wikipedia.org//wiki/Racing_Stripes</td>\n",
              "      <td>During a thunderstorm, a traveling circus, Cir...</td>\n",
              "    </tr>\n",
              "    <tr>\n",
              "      <th>4</th>\n",
              "      <td>4</td>\n",
              "      <td>Tom and Jerry: Blast Off to Mars</td>\n",
              "      <td>https://en.wikipedia.org//wiki/Tom_and_Jerry:_...</td>\n",
              "      <td>Tom (voiced by Bill Kopp) chases Jerry as usua...</td>\n",
              "    </tr>\n",
              "  </tbody>\n",
              "</table>\n",
              "</div>\n",
              "      <button class=\"colab-df-convert\" onclick=\"convertToInteractive('df-123a6b2a-35ac-4391-b6d8-6bb645e38587')\"\n",
              "              title=\"Convert this dataframe to an interactive table.\"\n",
              "              style=\"display:none;\">\n",
              "        \n",
              "  <svg xmlns=\"http://www.w3.org/2000/svg\" height=\"24px\"viewBox=\"0 0 24 24\"\n",
              "       width=\"24px\">\n",
              "    <path d=\"M0 0h24v24H0V0z\" fill=\"none\"/>\n",
              "    <path d=\"M18.56 5.44l.94 2.06.94-2.06 2.06-.94-2.06-.94-.94-2.06-.94 2.06-2.06.94zm-11 1L8.5 8.5l.94-2.06 2.06-.94-2.06-.94L8.5 2.5l-.94 2.06-2.06.94zm10 10l.94 2.06.94-2.06 2.06-.94-2.06-.94-.94-2.06-.94 2.06-2.06.94z\"/><path d=\"M17.41 7.96l-1.37-1.37c-.4-.4-.92-.59-1.43-.59-.52 0-1.04.2-1.43.59L10.3 9.45l-7.72 7.72c-.78.78-.78 2.05 0 2.83L4 21.41c.39.39.9.59 1.41.59.51 0 1.02-.2 1.41-.59l7.78-7.78 2.81-2.81c.8-.78.8-2.07 0-2.86zM5.41 20L4 18.59l7.72-7.72 1.47 1.35L5.41 20z\"/>\n",
              "  </svg>\n",
              "      </button>\n",
              "      \n",
              "  <style>\n",
              "    .colab-df-container {\n",
              "      display:flex;\n",
              "      flex-wrap:wrap;\n",
              "      gap: 12px;\n",
              "    }\n",
              "\n",
              "    .colab-df-convert {\n",
              "      background-color: #E8F0FE;\n",
              "      border: none;\n",
              "      border-radius: 50%;\n",
              "      cursor: pointer;\n",
              "      display: none;\n",
              "      fill: #1967D2;\n",
              "      height: 32px;\n",
              "      padding: 0 0 0 0;\n",
              "      width: 32px;\n",
              "    }\n",
              "\n",
              "    .colab-df-convert:hover {\n",
              "      background-color: #E2EBFA;\n",
              "      box-shadow: 0px 1px 2px rgba(60, 64, 67, 0.3), 0px 1px 3px 1px rgba(60, 64, 67, 0.15);\n",
              "      fill: #174EA6;\n",
              "    }\n",
              "\n",
              "    [theme=dark] .colab-df-convert {\n",
              "      background-color: #3B4455;\n",
              "      fill: #D2E3FC;\n",
              "    }\n",
              "\n",
              "    [theme=dark] .colab-df-convert:hover {\n",
              "      background-color: #434B5C;\n",
              "      box-shadow: 0px 1px 3px 1px rgba(0, 0, 0, 0.15);\n",
              "      filter: drop-shadow(0px 1px 2px rgba(0, 0, 0, 0.3));\n",
              "      fill: #FFFFFF;\n",
              "    }\n",
              "  </style>\n",
              "\n",
              "      <script>\n",
              "        const buttonEl =\n",
              "          document.querySelector('#df-123a6b2a-35ac-4391-b6d8-6bb645e38587 button.colab-df-convert');\n",
              "        buttonEl.style.display =\n",
              "          google.colab.kernel.accessAllowed ? 'block' : 'none';\n",
              "\n",
              "        async function convertToInteractive(key) {\n",
              "          const element = document.querySelector('#df-123a6b2a-35ac-4391-b6d8-6bb645e38587');\n",
              "          const dataTable =\n",
              "            await google.colab.kernel.invokeFunction('convertToInteractive',\n",
              "                                                     [key], {});\n",
              "          if (!dataTable) return;\n",
              "\n",
              "          const docLinkHtml = 'Like what you see? Visit the ' +\n",
              "            '<a target=\"_blank\" href=https://colab.research.google.com/notebooks/data_table.ipynb>data table notebook</a>'\n",
              "            + ' to learn more about interactive tables.';\n",
              "          element.innerHTML = '';\n",
              "          dataTable['output_type'] = 'display_data';\n",
              "          await google.colab.output.renderOutput(dataTable, element);\n",
              "          const docLink = document.createElement('div');\n",
              "          docLink.innerHTML = docLinkHtml;\n",
              "          element.appendChild(docLink);\n",
              "        }\n",
              "      </script>\n",
              "    </div>\n",
              "  </div>\n",
              "  "
            ]
          },
          "metadata": {},
          "execution_count": 1
        }
      ],
      "source": [
        "import pandas as pd\n",
        "df = pd.read_csv(\"https://raw.githubusercontent.com/MrunaliJamkar/Natural-Language-processing/main/American_Movie_Plots_2005_2021_v1.csv\")\n",
        "df.head()"
      ]
    },
    {
      "cell_type": "code",
      "source": [
        "new_df = df[df['Movie Name'].str.match('Batman Begins')]\n",
        "new_df"
      ],
      "metadata": {
        "id": "IUT5DISrfN-F",
        "outputId": "36b8efed-6dbd-4301-cde3-73c604155a07",
        "colab": {
          "base_uri": "https://localhost:8080/",
          "height": 81
        }
      },
      "execution_count": 3,
      "outputs": [
        {
          "output_type": "execute_result",
          "data": {
            "text/plain": [
              "    Unnamed: 0     Movie Name                                     Wiki Link  \\\n",
              "60          60  Batman Begins  https://en.wikipedia.org//wiki/Batman_Begins   \n",
              "\n",
              "                                                 Plot  \n",
              "60  In Gotham City, a young Bruce Wayne falls down...  "
            ],
            "text/html": [
              "\n",
              "  <div id=\"df-b8e71f44-b053-4350-9f0c-a7717b0e6d45\">\n",
              "    <div class=\"colab-df-container\">\n",
              "      <div>\n",
              "<style scoped>\n",
              "    .dataframe tbody tr th:only-of-type {\n",
              "        vertical-align: middle;\n",
              "    }\n",
              "\n",
              "    .dataframe tbody tr th {\n",
              "        vertical-align: top;\n",
              "    }\n",
              "\n",
              "    .dataframe thead th {\n",
              "        text-align: right;\n",
              "    }\n",
              "</style>\n",
              "<table border=\"1\" class=\"dataframe\">\n",
              "  <thead>\n",
              "    <tr style=\"text-align: right;\">\n",
              "      <th></th>\n",
              "      <th>Unnamed: 0</th>\n",
              "      <th>Movie Name</th>\n",
              "      <th>Wiki Link</th>\n",
              "      <th>Plot</th>\n",
              "    </tr>\n",
              "  </thead>\n",
              "  <tbody>\n",
              "    <tr>\n",
              "      <th>60</th>\n",
              "      <td>60</td>\n",
              "      <td>Batman Begins</td>\n",
              "      <td>https://en.wikipedia.org//wiki/Batman_Begins</td>\n",
              "      <td>In Gotham City, a young Bruce Wayne falls down...</td>\n",
              "    </tr>\n",
              "  </tbody>\n",
              "</table>\n",
              "</div>\n",
              "      <button class=\"colab-df-convert\" onclick=\"convertToInteractive('df-b8e71f44-b053-4350-9f0c-a7717b0e6d45')\"\n",
              "              title=\"Convert this dataframe to an interactive table.\"\n",
              "              style=\"display:none;\">\n",
              "        \n",
              "  <svg xmlns=\"http://www.w3.org/2000/svg\" height=\"24px\"viewBox=\"0 0 24 24\"\n",
              "       width=\"24px\">\n",
              "    <path d=\"M0 0h24v24H0V0z\" fill=\"none\"/>\n",
              "    <path d=\"M18.56 5.44l.94 2.06.94-2.06 2.06-.94-2.06-.94-.94-2.06-.94 2.06-2.06.94zm-11 1L8.5 8.5l.94-2.06 2.06-.94-2.06-.94L8.5 2.5l-.94 2.06-2.06.94zm10 10l.94 2.06.94-2.06 2.06-.94-2.06-.94-.94-2.06-.94 2.06-2.06.94z\"/><path d=\"M17.41 7.96l-1.37-1.37c-.4-.4-.92-.59-1.43-.59-.52 0-1.04.2-1.43.59L10.3 9.45l-7.72 7.72c-.78.78-.78 2.05 0 2.83L4 21.41c.39.39.9.59 1.41.59.51 0 1.02-.2 1.41-.59l7.78-7.78 2.81-2.81c.8-.78.8-2.07 0-2.86zM5.41 20L4 18.59l7.72-7.72 1.47 1.35L5.41 20z\"/>\n",
              "  </svg>\n",
              "      </button>\n",
              "      \n",
              "  <style>\n",
              "    .colab-df-container {\n",
              "      display:flex;\n",
              "      flex-wrap:wrap;\n",
              "      gap: 12px;\n",
              "    }\n",
              "\n",
              "    .colab-df-convert {\n",
              "      background-color: #E8F0FE;\n",
              "      border: none;\n",
              "      border-radius: 50%;\n",
              "      cursor: pointer;\n",
              "      display: none;\n",
              "      fill: #1967D2;\n",
              "      height: 32px;\n",
              "      padding: 0 0 0 0;\n",
              "      width: 32px;\n",
              "    }\n",
              "\n",
              "    .colab-df-convert:hover {\n",
              "      background-color: #E2EBFA;\n",
              "      box-shadow: 0px 1px 2px rgba(60, 64, 67, 0.3), 0px 1px 3px 1px rgba(60, 64, 67, 0.15);\n",
              "      fill: #174EA6;\n",
              "    }\n",
              "\n",
              "    [theme=dark] .colab-df-convert {\n",
              "      background-color: #3B4455;\n",
              "      fill: #D2E3FC;\n",
              "    }\n",
              "\n",
              "    [theme=dark] .colab-df-convert:hover {\n",
              "      background-color: #434B5C;\n",
              "      box-shadow: 0px 1px 3px 1px rgba(0, 0, 0, 0.15);\n",
              "      filter: drop-shadow(0px 1px 2px rgba(0, 0, 0, 0.3));\n",
              "      fill: #FFFFFF;\n",
              "    }\n",
              "  </style>\n",
              "\n",
              "      <script>\n",
              "        const buttonEl =\n",
              "          document.querySelector('#df-b8e71f44-b053-4350-9f0c-a7717b0e6d45 button.colab-df-convert');\n",
              "        buttonEl.style.display =\n",
              "          google.colab.kernel.accessAllowed ? 'block' : 'none';\n",
              "\n",
              "        async function convertToInteractive(key) {\n",
              "          const element = document.querySelector('#df-b8e71f44-b053-4350-9f0c-a7717b0e6d45');\n",
              "          const dataTable =\n",
              "            await google.colab.kernel.invokeFunction('convertToInteractive',\n",
              "                                                     [key], {});\n",
              "          if (!dataTable) return;\n",
              "\n",
              "          const docLinkHtml = 'Like what you see? Visit the ' +\n",
              "            '<a target=\"_blank\" href=https://colab.research.google.com/notebooks/data_table.ipynb>data table notebook</a>'\n",
              "            + ' to learn more about interactive tables.';\n",
              "          element.innerHTML = '';\n",
              "          dataTable['output_type'] = 'display_data';\n",
              "          await google.colab.output.renderOutput(dataTable, element);\n",
              "          const docLink = document.createElement('div');\n",
              "          docLink.innerHTML = docLinkHtml;\n",
              "          element.appendChild(docLink);\n",
              "        }\n",
              "      </script>\n",
              "    </div>\n",
              "  </div>\n",
              "  "
            ]
          },
          "metadata": {},
          "execution_count": 3
        }
      ]
    },
    {
      "cell_type": "code",
      "source": [
        "plot = new_df.iloc[0]['Plot']\n",
        "print(plot)"
      ],
      "metadata": {
        "id": "LQCIPks5fvcI",
        "outputId": "b5af4063-fe90-495d-8d0c-8738e09ef51f",
        "colab": {
          "base_uri": "https://localhost:8080/"
        }
      },
      "execution_count": 5,
      "outputs": [
        {
          "output_type": "stream",
          "name": "stdout",
          "text": [
            "In Gotham City, a young Bruce Wayne falls down a dry well and is attacked by a swarm of bats, developing a fear of them. Attending the opera with his parents, Thomas and Martha, Bruce becomes frightened by performers masquerading as bats and asks to leave. Outside, mugger Joe Chill murders Bruce's parents in front of him, and the orphaned Bruce is raised by the family butler, Alfred Pennyworth. 14 years later, Chill is paroled after testifying against mafia boss Carmine Falcone. Bruce intends to murder Chill to avenge his parents, but one of Falcone's assassins does so first. Bruce's childhood friend Rachel Dawes berates him for acting outside the justice system, saying that his father would be ashamed. After confronting Falcone, who tells him that real power comes from being feared, Bruce spends the next seven years traveling the world training in combat and immersing himself in the criminal underworld.\n",
            "\n",
            "In a Bhutan prison, he meets Henri Ducard, who recruits him to the League of Shadows led by Ra's al Ghul. After completing his training in ninja methods and purging his fears, Bruce learns that the League knows about Gotham and, believing the city is beyond saving, intends to destroy it. Bruce rejects the League and its edict that killing is necessary, burning down their temple during his escape. Ra's is supposedly  killed by falling debris, while Bruce saves the unconscious Ducard. Returning to Gotham intent on fighting crime, Bruce takes an interest in his family's company, Wayne Enterprises, which is being taken public by the unscrupulous William Earle. Company archivist Lucius Fox, a friend of Bruce's father, allows Bruce access to prototype defense technologies, including a protective bodysuit and a heavily armored vehicle called a Tumbler. Bruce poses publicly as a shallow playboy, while setting up a base in the caves beneath Wayne Manor and taking up the vigilante identity of \"Batman\", inspired by his childhood fear, which he has now conquered.\n",
            "\n",
            "Intercepting a drug shipment, Batman provides Rachel, now a Gotham Assistant District Attorney, with evidence against Falcone and enlists Sergeant James Gordon, one of Gotham's few honest cops, to arrest him. In prison, Falcone meets Dr. Jonathan Crane, a corrupt psychologist whom he has helped smuggle drugs into Gotham. Donning a scarecrow mask, Crane sprays Falcone with a fear-inducing hallucinogen which drives him insane, and has him transferred to Arkham Asylum. While investigating his crimes, Batman is sprayed with the hallucinogen and set on fire by Crane but manages to escape and is saved by Alfred, who gives him an antidote for the hallucinogen developed by Fox. When Rachel accuses Crane of corruption, he reveals to her that he has introduced his drug into Gotham's water supply. Crane then drugs Rachel with the hallucinogen, but Batman subdues him and sprays Crane with his own chemical to interrogate him, where Crane claims to work for Ra's al Ghul.\n",
            "\n",
            "Batman evades the police by attracting a large horde of bats using a high-pitched sound, to get Rachel to safety, administering her the antidote and giving her a vial of it for Gordon and another for mass production. At Bruce's birthday party, Ducard reappears and reveals himself to be the true Ra's al Ghul. Having stolen a powerful microwave emitter from Wayne Enterprises, he plans to vaporize Gotham's water supply, rendering Crane's drug airborne and causing mass hysteria that will destroy the city. He sets Wayne Manor aflame and leaves Bruce to die, but Alfred rescues him. Ra's loads the microwave emitter onto Gotham's monorail system to release the drug at the city's central water source. Batman rescues Rachel from a drugged mob and indirectly reveals his identity to her. Confronting Ra's on the monorail, as Gordon uses the Tumbler's cannons to destroy a section of the track, Batman refuses to kill Ra's but chooses not to save him, gliding from the train as it crashes, killing Ra's.\n",
            "\n",
            "Bruce gains Rachel's respect and love, but she decides she cannot be with him now, telling him if Gotham should no longer need Batman, they can be together. Batman becomes a public hero and Bruce reveals he has purchased a controlling stake in Wayne Enterprises, firing Earle and replacing him with Fox. Sergeant Gordon is promoted to Lieutenant, shows Batman the Bat-Signal, and tells him about a criminal who leaves behind Joker playing cards.[a] Batman promises to look into it, and disappears into the night.\n",
            "\n",
            "\n"
          ]
        }
      ]
    },
    {
      "cell_type": "code",
      "source": [
        "plot_list = plot.split(\" \")\n",
        "print(plot_list)"
      ],
      "metadata": {
        "id": "87UP5keff-O4",
        "outputId": "65bd280a-b67b-441d-fb4a-c0534c2fa3e5",
        "colab": {
          "base_uri": "https://localhost:8080/"
        }
      },
      "execution_count": 7,
      "outputs": [
        {
          "output_type": "stream",
          "name": "stdout",
          "text": [
            "['In', 'Gotham', 'City,', 'a', 'young', 'Bruce', 'Wayne', 'falls', 'down', 'a', 'dry', 'well', 'and', 'is', 'attacked', 'by', 'a', 'swarm', 'of', 'bats,', 'developing', 'a', 'fear', 'of', 'them.', 'Attending', 'the', 'opera', 'with', 'his', 'parents,', 'Thomas', 'and', 'Martha,', 'Bruce', 'becomes', 'frightened', 'by', 'performers', 'masquerading', 'as', 'bats', 'and', 'asks', 'to', 'leave.', 'Outside,', 'mugger', 'Joe', 'Chill', 'murders', \"Bruce's\", 'parents', 'in', 'front', 'of', 'him,', 'and', 'the', 'orphaned', 'Bruce', 'is', 'raised', 'by', 'the', 'family', 'butler,', 'Alfred', 'Pennyworth.', '14', 'years', 'later,', 'Chill', 'is', 'paroled', 'after', 'testifying', 'against', 'mafia', 'boss', 'Carmine', 'Falcone.', 'Bruce', 'intends', 'to', 'murder', 'Chill', 'to', 'avenge', 'his', 'parents,', 'but', 'one', 'of', \"Falcone's\", 'assassins', 'does', 'so', 'first.', \"Bruce's\", 'childhood', 'friend', 'Rachel', 'Dawes', 'berates', 'him', 'for', 'acting', 'outside', 'the', 'justice', 'system,', 'saying', 'that', 'his', 'father', 'would', 'be', 'ashamed.', 'After', 'confronting', 'Falcone,', 'who', 'tells', 'him', 'that', 'real', 'power', 'comes', 'from', 'being', 'feared,', 'Bruce', 'spends', 'the', 'next', 'seven', 'years', 'traveling', 'the', 'world', 'training', 'in', 'combat', 'and', 'immersing', 'himself', 'in', 'the', 'criminal', 'underworld.\\n\\nIn', 'a', 'Bhutan', 'prison,', 'he', 'meets', 'Henri', 'Ducard,', 'who', 'recruits', 'him', 'to', 'the', 'League', 'of', 'Shadows', 'led', 'by', \"Ra's\", 'al', 'Ghul.', 'After', 'completing', 'his', 'training', 'in', 'ninja', 'methods', 'and', 'purging', 'his', 'fears,', 'Bruce', 'learns', 'that', 'the', 'League', 'knows', 'about', 'Gotham', 'and,', 'believing', 'the', 'city', 'is', 'beyond', 'saving,', 'intends', 'to', 'destroy', 'it.', 'Bruce', 'rejects', 'the', 'League', 'and', 'its', 'edict', 'that', 'killing', 'is', 'necessary,', 'burning', 'down', 'their', 'temple', 'during', 'his', 'escape.', \"Ra's\", 'is', 'supposedly', '', 'killed', 'by', 'falling', 'debris,', 'while', 'Bruce', 'saves', 'the', 'unconscious', 'Ducard.', 'Returning', 'to', 'Gotham', 'intent', 'on', 'fighting', 'crime,', 'Bruce', 'takes', 'an', 'interest', 'in', 'his', \"family's\", 'company,', 'Wayne', 'Enterprises,', 'which', 'is', 'being', 'taken', 'public', 'by', 'the', 'unscrupulous', 'William', 'Earle.', 'Company', 'archivist', 'Lucius', 'Fox,', 'a', 'friend', 'of', \"Bruce's\", 'father,', 'allows', 'Bruce', 'access', 'to', 'prototype', 'defense', 'technologies,', 'including', 'a', 'protective', 'bodysuit', 'and', 'a', 'heavily', 'armored', 'vehicle', 'called', 'a', 'Tumbler.', 'Bruce', 'poses', 'publicly', 'as', 'a', 'shallow', 'playboy,', 'while', 'setting', 'up', 'a', 'base', 'in', 'the', 'caves', 'beneath', 'Wayne', 'Manor', 'and', 'taking', 'up', 'the', 'vigilante', 'identity', 'of', '\"Batman\",', 'inspired', 'by', 'his', 'childhood', 'fear,', 'which', 'he', 'has', 'now', 'conquered.\\n\\nIntercepting', 'a', 'drug', 'shipment,', 'Batman', 'provides', 'Rachel,', 'now', 'a', 'Gotham', 'Assistant', 'District', 'Attorney,', 'with', 'evidence', 'against', 'Falcone', 'and', 'enlists', 'Sergeant', 'James', 'Gordon,', 'one', 'of', \"Gotham's\", 'few', 'honest', 'cops,', 'to', 'arrest', 'him.', 'In', 'prison,', 'Falcone', 'meets', 'Dr.', 'Jonathan', 'Crane,', 'a', 'corrupt', 'psychologist', 'whom', 'he', 'has', 'helped', 'smuggle', 'drugs', 'into', 'Gotham.', 'Donning', 'a', 'scarecrow', 'mask,', 'Crane', 'sprays', 'Falcone', 'with', 'a', 'fear-inducing', 'hallucinogen', 'which', 'drives', 'him', 'insane,', 'and', 'has', 'him', 'transferred', 'to', 'Arkham', 'Asylum.', 'While', 'investigating', 'his', 'crimes,', 'Batman', 'is', 'sprayed', 'with', 'the', 'hallucinogen', 'and', 'set', 'on', 'fire', 'by', 'Crane', 'but', 'manages', 'to', 'escape', 'and', 'is', 'saved', 'by', 'Alfred,', 'who', 'gives', 'him', 'an', 'antidote', 'for', 'the', 'hallucinogen', 'developed', 'by', 'Fox.', 'When', 'Rachel', 'accuses', 'Crane', 'of', 'corruption,', 'he', 'reveals', 'to', 'her', 'that', 'he', 'has', 'introduced', 'his', 'drug', 'into', \"Gotham's\", 'water', 'supply.', 'Crane', 'then', 'drugs', 'Rachel', 'with', 'the', 'hallucinogen,', 'but', 'Batman', 'subdues', 'him', 'and', 'sprays', 'Crane', 'with', 'his', 'own', 'chemical', 'to', 'interrogate', 'him,', 'where', 'Crane', 'claims', 'to', 'work', 'for', \"Ra's\", 'al', 'Ghul.\\n\\nBatman', 'evades', 'the', 'police', 'by', 'attracting', 'a', 'large', 'horde', 'of', 'bats', 'using', 'a', 'high-pitched', 'sound,', 'to', 'get', 'Rachel', 'to', 'safety,', 'administering', 'her', 'the', 'antidote', 'and', 'giving', 'her', 'a', 'vial', 'of', 'it', 'for', 'Gordon', 'and', 'another', 'for', 'mass', 'production.', 'At', \"Bruce's\", 'birthday', 'party,', 'Ducard', 'reappears', 'and', 'reveals', 'himself', 'to', 'be', 'the', 'true', \"Ra's\", 'al', 'Ghul.', 'Having', 'stolen', 'a', 'powerful', 'microwave', 'emitter', 'from', 'Wayne', 'Enterprises,', 'he', 'plans', 'to', 'vaporize', \"Gotham's\", 'water', 'supply,', 'rendering', \"Crane's\", 'drug', 'airborne', 'and', 'causing', 'mass', 'hysteria', 'that', 'will', 'destroy', 'the', 'city.', 'He', 'sets', 'Wayne', 'Manor', 'aflame', 'and', 'leaves', 'Bruce', 'to', 'die,', 'but', 'Alfred', 'rescues', 'him.', \"Ra's\", 'loads', 'the', 'microwave', 'emitter', 'onto', \"Gotham's\", 'monorail', 'system', 'to', 'release', 'the', 'drug', 'at', 'the', \"city's\", 'central', 'water', 'source.', 'Batman', 'rescues', 'Rachel', 'from', 'a', 'drugged', 'mob', 'and', 'indirectly', 'reveals', 'his', 'identity', 'to', 'her.', 'Confronting', \"Ra's\", 'on', 'the', 'monorail,', 'as', 'Gordon', 'uses', 'the', \"Tumbler's\", 'cannons', 'to', 'destroy', 'a', 'section', 'of', 'the', 'track,', 'Batman', 'refuses', 'to', 'kill', \"Ra's\", 'but', 'chooses', 'not', 'to', 'save', 'him,', 'gliding', 'from', 'the', 'train', 'as', 'it', 'crashes,', 'killing', \"Ra's.\\n\\nBruce\", 'gains', \"Rachel's\", 'respect', 'and', 'love,', 'but', 'she', 'decides', 'she', 'cannot', 'be', 'with', 'him', 'now,', 'telling', 'him', 'if', 'Gotham', 'should', 'no', 'longer', 'need', 'Batman,', 'they', 'can', 'be', 'together.', 'Batman', 'becomes', 'a', 'public', 'hero', 'and', 'Bruce', 'reveals', 'he', 'has', 'purchased', 'a', 'controlling', 'stake', 'in', 'Wayne', 'Enterprises,', 'firing', 'Earle', 'and', 'replacing', 'him', 'with', 'Fox.', 'Sergeant', 'Gordon', 'is', 'promoted', 'to', 'Lieutenant,', 'shows', 'Batman', 'the', 'Bat-Signal,', 'and', 'tells', 'him', 'about', 'a', 'criminal', 'who', 'leaves', 'behind', 'Joker', 'playing', 'cards.[a]', 'Batman', 'promises', 'to', 'look', 'into', 'it,', 'and', 'disappears', 'into', 'the', 'night.\\n\\n']\n"
          ]
        }
      ]
    },
    {
      "cell_type": "code",
      "source": [
        "import re\n",
        "wordlist = re.findall(r\"[\\w']+\", plot)\n",
        "print (wordlist)"
      ],
      "metadata": {
        "id": "zmWGnJJrgXTU",
        "outputId": "2091bcd3-3f3e-4c22-e9b2-6425feae9808",
        "colab": {
          "base_uri": "https://localhost:8080/"
        }
      },
      "execution_count": 8,
      "outputs": [
        {
          "output_type": "stream",
          "name": "stdout",
          "text": [
            "['In', 'Gotham', 'City', 'a', 'young', 'Bruce', 'Wayne', 'falls', 'down', 'a', 'dry', 'well', 'and', 'is', 'attacked', 'by', 'a', 'swarm', 'of', 'bats', 'developing', 'a', 'fear', 'of', 'them', 'Attending', 'the', 'opera', 'with', 'his', 'parents', 'Thomas', 'and', 'Martha', 'Bruce', 'becomes', 'frightened', 'by', 'performers', 'masquerading', 'as', 'bats', 'and', 'asks', 'to', 'leave', 'Outside', 'mugger', 'Joe', 'Chill', 'murders', \"Bruce's\", 'parents', 'in', 'front', 'of', 'him', 'and', 'the', 'orphaned', 'Bruce', 'is', 'raised', 'by', 'the', 'family', 'butler', 'Alfred', 'Pennyworth', '14', 'years', 'later', 'Chill', 'is', 'paroled', 'after', 'testifying', 'against', 'mafia', 'boss', 'Carmine', 'Falcone', 'Bruce', 'intends', 'to', 'murder', 'Chill', 'to', 'avenge', 'his', 'parents', 'but', 'one', 'of', \"Falcone's\", 'assassins', 'does', 'so', 'first', \"Bruce's\", 'childhood', 'friend', 'Rachel', 'Dawes', 'berates', 'him', 'for', 'acting', 'outside', 'the', 'justice', 'system', 'saying', 'that', 'his', 'father', 'would', 'be', 'ashamed', 'After', 'confronting', 'Falcone', 'who', 'tells', 'him', 'that', 'real', 'power', 'comes', 'from', 'being', 'feared', 'Bruce', 'spends', 'the', 'next', 'seven', 'years', 'traveling', 'the', 'world', 'training', 'in', 'combat', 'and', 'immersing', 'himself', 'in', 'the', 'criminal', 'underworld', 'In', 'a', 'Bhutan', 'prison', 'he', 'meets', 'Henri', 'Ducard', 'who', 'recruits', 'him', 'to', 'the', 'League', 'of', 'Shadows', 'led', 'by', \"Ra's\", 'al', 'Ghul', 'After', 'completing', 'his', 'training', 'in', 'ninja', 'methods', 'and', 'purging', 'his', 'fears', 'Bruce', 'learns', 'that', 'the', 'League', 'knows', 'about', 'Gotham', 'and', 'believing', 'the', 'city', 'is', 'beyond', 'saving', 'intends', 'to', 'destroy', 'it', 'Bruce', 'rejects', 'the', 'League', 'and', 'its', 'edict', 'that', 'killing', 'is', 'necessary', 'burning', 'down', 'their', 'temple', 'during', 'his', 'escape', \"Ra's\", 'is', 'supposedly', 'killed', 'by', 'falling', 'debris', 'while', 'Bruce', 'saves', 'the', 'unconscious', 'Ducard', 'Returning', 'to', 'Gotham', 'intent', 'on', 'fighting', 'crime', 'Bruce', 'takes', 'an', 'interest', 'in', 'his', \"family's\", 'company', 'Wayne', 'Enterprises', 'which', 'is', 'being', 'taken', 'public', 'by', 'the', 'unscrupulous', 'William', 'Earle', 'Company', 'archivist', 'Lucius', 'Fox', 'a', 'friend', 'of', \"Bruce's\", 'father', 'allows', 'Bruce', 'access', 'to', 'prototype', 'defense', 'technologies', 'including', 'a', 'protective', 'bodysuit', 'and', 'a', 'heavily', 'armored', 'vehicle', 'called', 'a', 'Tumbler', 'Bruce', 'poses', 'publicly', 'as', 'a', 'shallow', 'playboy', 'while', 'setting', 'up', 'a', 'base', 'in', 'the', 'caves', 'beneath', 'Wayne', 'Manor', 'and', 'taking', 'up', 'the', 'vigilante', 'identity', 'of', 'Batman', 'inspired', 'by', 'his', 'childhood', 'fear', 'which', 'he', 'has', 'now', 'conquered', 'Intercepting', 'a', 'drug', 'shipment', 'Batman', 'provides', 'Rachel', 'now', 'a', 'Gotham', 'Assistant', 'District', 'Attorney', 'with', 'evidence', 'against', 'Falcone', 'and', 'enlists', 'Sergeant', 'James', 'Gordon', 'one', 'of', \"Gotham's\", 'few', 'honest', 'cops', 'to', 'arrest', 'him', 'In', 'prison', 'Falcone', 'meets', 'Dr', 'Jonathan', 'Crane', 'a', 'corrupt', 'psychologist', 'whom', 'he', 'has', 'helped', 'smuggle', 'drugs', 'into', 'Gotham', 'Donning', 'a', 'scarecrow', 'mask', 'Crane', 'sprays', 'Falcone', 'with', 'a', 'fear', 'inducing', 'hallucinogen', 'which', 'drives', 'him', 'insane', 'and', 'has', 'him', 'transferred', 'to', 'Arkham', 'Asylum', 'While', 'investigating', 'his', 'crimes', 'Batman', 'is', 'sprayed', 'with', 'the', 'hallucinogen', 'and', 'set', 'on', 'fire', 'by', 'Crane', 'but', 'manages', 'to', 'escape', 'and', 'is', 'saved', 'by', 'Alfred', 'who', 'gives', 'him', 'an', 'antidote', 'for', 'the', 'hallucinogen', 'developed', 'by', 'Fox', 'When', 'Rachel', 'accuses', 'Crane', 'of', 'corruption', 'he', 'reveals', 'to', 'her', 'that', 'he', 'has', 'introduced', 'his', 'drug', 'into', \"Gotham's\", 'water', 'supply', 'Crane', 'then', 'drugs', 'Rachel', 'with', 'the', 'hallucinogen', 'but', 'Batman', 'subdues', 'him', 'and', 'sprays', 'Crane', 'with', 'his', 'own', 'chemical', 'to', 'interrogate', 'him', 'where', 'Crane', 'claims', 'to', 'work', 'for', \"Ra's\", 'al', 'Ghul', 'Batman', 'evades', 'the', 'police', 'by', 'attracting', 'a', 'large', 'horde', 'of', 'bats', 'using', 'a', 'high', 'pitched', 'sound', 'to', 'get', 'Rachel', 'to', 'safety', 'administering', 'her', 'the', 'antidote', 'and', 'giving', 'her', 'a', 'vial', 'of', 'it', 'for', 'Gordon', 'and', 'another', 'for', 'mass', 'production', 'At', \"Bruce's\", 'birthday', 'party', 'Ducard', 'reappears', 'and', 'reveals', 'himself', 'to', 'be', 'the', 'true', \"Ra's\", 'al', 'Ghul', 'Having', 'stolen', 'a', 'powerful', 'microwave', 'emitter', 'from', 'Wayne', 'Enterprises', 'he', 'plans', 'to', 'vaporize', \"Gotham's\", 'water', 'supply', 'rendering', \"Crane's\", 'drug', 'airborne', 'and', 'causing', 'mass', 'hysteria', 'that', 'will', 'destroy', 'the', 'city', 'He', 'sets', 'Wayne', 'Manor', 'aflame', 'and', 'leaves', 'Bruce', 'to', 'die', 'but', 'Alfred', 'rescues', 'him', \"Ra's\", 'loads', 'the', 'microwave', 'emitter', 'onto', \"Gotham's\", 'monorail', 'system', 'to', 'release', 'the', 'drug', 'at', 'the', \"city's\", 'central', 'water', 'source', 'Batman', 'rescues', 'Rachel', 'from', 'a', 'drugged', 'mob', 'and', 'indirectly', 'reveals', 'his', 'identity', 'to', 'her', 'Confronting', \"Ra's\", 'on', 'the', 'monorail', 'as', 'Gordon', 'uses', 'the', \"Tumbler's\", 'cannons', 'to', 'destroy', 'a', 'section', 'of', 'the', 'track', 'Batman', 'refuses', 'to', 'kill', \"Ra's\", 'but', 'chooses', 'not', 'to', 'save', 'him', 'gliding', 'from', 'the', 'train', 'as', 'it', 'crashes', 'killing', \"Ra's\", 'Bruce', 'gains', \"Rachel's\", 'respect', 'and', 'love', 'but', 'she', 'decides', 'she', 'cannot', 'be', 'with', 'him', 'now', 'telling', 'him', 'if', 'Gotham', 'should', 'no', 'longer', 'need', 'Batman', 'they', 'can', 'be', 'together', 'Batman', 'becomes', 'a', 'public', 'hero', 'and', 'Bruce', 'reveals', 'he', 'has', 'purchased', 'a', 'controlling', 'stake', 'in', 'Wayne', 'Enterprises', 'firing', 'Earle', 'and', 'replacing', 'him', 'with', 'Fox', 'Sergeant', 'Gordon', 'is', 'promoted', 'to', 'Lieutenant', 'shows', 'Batman', 'the', 'Bat', 'Signal', 'and', 'tells', 'him', 'about', 'a', 'criminal', 'who', 'leaves', 'behind', 'Joker', 'playing', 'cards', 'a', 'Batman', 'promises', 'to', 'look', 'into', 'it', 'and', 'disappears', 'into', 'the', 'night']\n"
          ]
        }
      ]
    },
    {
      "cell_type": "code",
      "source": [],
      "metadata": {
        "id": "rFCFaYvyg-cb"
      },
      "execution_count": null,
      "outputs": []
    }
  ]
}